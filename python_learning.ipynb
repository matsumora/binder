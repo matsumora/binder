{
 "cells": [
  {
   "cell_type": "code",
   "execution_count": 1,
   "metadata": {},
   "outputs": [
    {
     "name": "stdin",
     "output_type": "stream",
     "text": [
      " HackerRank.com presents \"Pythonist 2\".\n"
     ]
    },
    {
     "name": "stdout",
     "output_type": "stream",
     "text": [
      "hACKERrANK.COM PRESENTS \"pYTHONIST 2\".\n"
     ]
    }
   ],
   "source": [
    "# swap case string\n",
    "def swap_case(s):\n",
    "    string_swapped = s.swapcase()\n",
    "    return string_swapped\n",
    "\n",
    "if __name__ == '__main__':\n",
    "    s = input()\n",
    "    result = swap_case(s)\n",
    "    print(result)"
   ]
  },
  {
   "cell_type": "code",
   "execution_count": 3,
   "metadata": {},
   "outputs": [
    {
     "name": "stdin",
     "output_type": "stream",
     "text": [
      " this is a test\n"
     ]
    },
    {
     "name": "stdout",
     "output_type": "stream",
     "text": [
      "this-is-a-test\n"
     ]
    }
   ],
   "source": [
    "# replace space with hyphen in string by split into list by space and join by hyphen\n",
    "def split_and_join(line):\n",
    "    line = line.split(\" \")\n",
    "    line = \"-\".join(line)\n",
    "    return line\n",
    "if __name__ == '__main__':\n",
    "    line = input()\n",
    "    result = split_and_join(line)\n",
    "    print(result)"
   ]
  },
  {
   "cell_type": "code",
   "execution_count": 4,
   "metadata": {},
   "outputs": [
    {
     "name": "stdin",
     "output_type": "stream",
     "text": [
      " abracadabra\n",
      " 5 k\n"
     ]
    },
    {
     "name": "stdout",
     "output_type": "stream",
     "text": [
      "abrackdabra\n"
     ]
    }
   ],
   "source": [
    "# replace character in string by splitting at position\n",
    "# sample input\n",
    "# abracadabra\n",
    "# 5 k\n",
    "def mutate_string(string, position, character):\n",
    "    updated_string = string[:position] + character + string[position+1:]\n",
    "    return updated_string\n",
    "\n",
    "if __name__ == '__main__':\n",
    "    s = input()\n",
    "    i, c = input().split()\n",
    "    s_new = mutate_string(s, int(i), c)\n",
    "    print(s_new)"
   ]
  },
  {
   "cell_type": "code",
   "execution_count": 5,
   "metadata": {},
   "outputs": [
    {
     "name": "stdin",
     "output_type": "stream",
     "text": [
      " abracadabra\n",
      " 5 k\n"
     ]
    },
    {
     "name": "stdout",
     "output_type": "stream",
     "text": [
      "abrackdabra\n"
     ]
    }
   ],
   "source": [
    "# replace character in string by converting to list and replacing at index\n",
    "# sample input\n",
    "# abracadabra\n",
    "# 5 k\n",
    "def mutate_string(string, position, character):\n",
    "    string_to_edit = list(string)\n",
    "    string_to_edit[position] = character\n",
    "    updated_string = \"\".join(string_to_edit)\n",
    "    return updated_string\n",
    "\n",
    "if __name__ == '__main__':\n",
    "    s = input()\n",
    "    i, c = input().split()\n",
    "    s_new = mutate_string(s, int(i), c)\n",
    "    print(s_new)"
   ]
  },
  {
   "cell_type": "code",
   "execution_count": 7,
   "metadata": {},
   "outputs": [
    {
     "name": "stdin",
     "output_type": "stream",
     "text": [
      " ABCDCDC\n",
      " CDC\n"
     ]
    },
    {
     "name": "stdout",
     "output_type": "stream",
     "text": [
      "2\n"
     ]
    }
   ],
   "source": [
    "# Count number of occurrences of a substring occurring in a string, copied from answers\n",
    "# sample input\n",
    "# ABCDCDC\n",
    "# CDC\n",
    "\n",
    "def count_substring(string, sub_string):\n",
    "    sliding_window,total_count = 0,0\n",
    "    for x in range(0, len(string)):\n",
    "        if matcher(string[sliding_window:(sliding_window+len(sub_string))], sub_string):\n",
    "            total_count = total_count + 1\n",
    "        sliding_window=sliding_window + 1\n",
    "    return total_count\n",
    "def matcher(sliced_str, sub_string):\n",
    "    return sliced_str == sub_string\n",
    "\n",
    "if __name__ == '__main__':\n",
    "    string = input().strip()\n",
    "    sub_string = input().strip()\n",
    "    \n",
    "    count = count_substring(string, sub_string)\n",
    "    print(count)"
   ]
  },
  {
   "cell_type": "code",
   "execution_count": 14,
   "metadata": {},
   "outputs": [
    {
     "name": "stdin",
     "output_type": "stream",
     "text": [
      " ABCDCDC\n",
      " CDC\n"
     ]
    },
    {
     "name": "stdout",
     "output_type": "stream",
     "text": [
      "2\n"
     ]
    }
   ],
   "source": [
    "# Count number of occurrences of a substring occurring in a string, done by myself\n",
    "# sample input\n",
    "# ABCDCDC\n",
    "# CDC\n",
    "def count_substring(string, sub_string):\n",
    "    # get length of string, initialize variables\n",
    "    sub_string_len = len(sub_string)\n",
    "    string_len = len(string)\n",
    "    total_count = 0\n",
    "    # have a sliding window along string, starting at index 0, size length of substring\n",
    "    # loop for every position along string, chop length of sub_string and pass to checker\n",
    "    for x in range(string_len):\n",
    "        if sliding_window_checker(string[x:x+sub_string_len],sub_string):\n",
    "            total_count = total_count + 1\n",
    "    return total_count\n",
    "\n",
    "def sliding_window_checker(sliding_window,string_to_check):\n",
    "    # return true if sliding window of string == substring\n",
    "    return sliding_window == string_to_check\n",
    "\n",
    "if __name__ == '__main__':\n",
    "    string = input().strip()\n",
    "    sub_string = input().strip()\n",
    "    \n",
    "    count = count_substring(string, sub_string)\n",
    "    print(count)"
   ]
  },
  {
   "cell_type": "code",
   "execution_count": 25,
   "metadata": {},
   "outputs": [
    {
     "name": "stdout",
     "output_type": "stream",
     "text": [
      "alpha numeric: False\n",
      "alpha: True\n",
      "numeric: False\n",
      "lowercase: True\n",
      "lowercase: True\n"
     ]
    }
   ],
   "source": [
    "# string validators\n",
    "\n",
    "# \"string\".isalnum()\n",
    "x = \"#ab123\"\n",
    "print(\"alpha numeric: \"+ str(x.isalnum()))\n",
    "\n",
    "# \"string\".isalpha()\n",
    "y = \"ab\"\n",
    "print(\"alpha: \"+ str(y.isalpha()))\n",
    "\n",
    "# \"string\".isdigit()\n",
    "z = \"123\"\n",
    "print(\"numeric: \"+ str(z.isalpha()))\n",
    "\n",
    "# \"string\".islower()\n",
    "a = \"abc#!\"\n",
    "print(\"lowercase: \"+ str(a.islower()))\n",
    "\n",
    "# \"string\".isupper()\n",
    "b = \"ABC#!\"\n",
    "print(\"lowercase: \"+ str(b.isupper()))\n"
   ]
  },
  {
   "cell_type": "code",
   "execution_count": null,
   "metadata": {},
   "outputs": [],
   "source": [
    "# test if input string contains various string validations\n",
    "\n",
    "if __name__ == '__main__':\n",
    "    s = input()\n",
    "    # initialize variables\n",
    "    string_has_alphanum, string_has_alpha, string_has_numeric, string_has_lowercase, string_has_uppercase = False, False, False, False, False\n",
    "    # if alphanumeric, true\n",
    "    for x in range(len(s)) : \n",
    "        if s[x].isalnum():\n",
    "            string_has_alphanum = True\n",
    "    print(string_has_alphanum)\n",
    "    # if alpha, true\n",
    "    for x in range(len(s)) : \n",
    "        if s[x].isalpha():\n",
    "            string_has_alpha = True\n",
    "    print(string_has_alpha)\n",
    "    # if numeric, true\n",
    "    for x in range(len(s)) : \n",
    "        if s[x].isdigit():\n",
    "            string_has_numeric = True\n",
    "    print(string_has_numeric)\n",
    "    # if lowercase, true\n",
    "    for x in range(len(s)) : \n",
    "        if s[x].islower():\n",
    "            string_has_lowercase = True\n",
    "    print(string_has_lowercase)\n",
    "    # if uppercase, true\n",
    "    for x in range(len(s)) : \n",
    "        if s[x].isupper():\n",
    "            string_has_uppercase = True\n",
    "    print(string_has_uppercase)"
   ]
  },
  {
   "cell_type": "code",
   "execution_count": 2,
   "metadata": {},
   "outputs": [
    {
     "name": "stdout",
     "output_type": "stream",
     "text": [
      "AAPL is Apple\n",
      "AMZN is Amazon\n"
     ]
    }
   ],
   "source": [
    "stocks = {'Apple':'AAPL', 'Amazon':'AMZN'}\n",
    "for p,b in stocks.items():\n",
    "    print (b + ' is ' + p)"
   ]
  },
  {
   "cell_type": "code",
   "execution_count": 1,
   "metadata": {},
   "outputs": [
    {
     "name": "stdout",
     "output_type": "stream",
     "text": [
      "   ID  Views  Clicks\n",
      "a   1   1000     300\n",
      "b   2   1200     800\n",
      "c   3    800     500\n",
      "a: 1000\n",
      "b: 1200\n",
      "c: 800\n"
     ]
    }
   ],
   "source": [
    "import pandas as pd\n",
    "import numpy as np\n",
    "\n",
    "rows = [\"a\",\"b\",\"c\"]\n",
    "headers = [\"ID\", \"Views\", \"Clicks\"]\n",
    "data = [[1,1000,300],[2,1200,800],[3,800,500]]\n",
    "\n",
    "marketing = pd.DataFrame(data,index=rows,columns=headers)\n",
    "print(marketing)\n",
    "#print(marketing.iloc[2])\n",
    "\n",
    "for i,y in marketing.iterrows():\n",
    "    print(i +\": \"+str(y['Views']))"
   ]
  },
  {
   "cell_type": "code",
   "execution_count": 23,
   "metadata": {},
   "outputs": [
    {
     "name": "stdout",
     "output_type": "stream",
     "text": [
      "{1, 2, 3}\n",
      "if out is (), then is a tuple\n",
      "if out is [], then is a list\n",
      "if out is {}, then is a set\n",
      "if out is error, then is a dictionary(b/c no key value pairs)\n"
     ]
    }
   ],
   "source": [
    "# data types\n",
    "x = (1,2,3)\n",
    "\n",
    "s = set(x)\n",
    "\n",
    "print(s)\n",
    "print(\"if out is (), then is a tuple\")\n",
    "print(\"if out is [], then is a list\")\n",
    "print(\"if out is {}, then is a set\")\n",
    "print(\"if out is error, then is a dictionary(b/c no key value pairs)\")"
   ]
  },
  {
   "cell_type": "code",
   "execution_count": 27,
   "metadata": {},
   "outputs": [
    {
     "name": "stdout",
     "output_type": "stream",
     "text": [
      "['Gloomhaven', 'Pandemic Legacy: Season 1', 'Terraforming Mars', 'Brass: Birmingham']\n",
      "['Gloomhaven', 'Pandemic Legacy: Season 1', 'Terraforming Mars', 'Brass: Birmingham', 'Settlers of Catan', 'Monopoly']\n"
     ]
    }
   ],
   "source": [
    "boardgames = [\n",
    "    'Pandemic Legacy: Season 1',\n",
    "    'Terraforming Mars',\n",
    "    'Brass: Birmingham'\n",
    "]\n",
    "\n",
    "boardgames.insert(0,'Gloomhaven')\n",
    "print(boardgames)\n",
    "\n",
    "new_boardgames = [\n",
    "    'Settlers of Catan',\n",
    "    'Monopoly'\n",
    "]\n",
    "\n",
    "boardgames.extend(new_boardgames)\n",
    "print(boardgames)"
   ]
  },
  {
   "cell_type": "code",
   "execution_count": 8,
   "metadata": {},
   "outputs": [
    {
     "name": "stdout",
     "output_type": "stream",
     "text": [
      "2\n",
      "circle 5\n",
      "78.54\n",
      "\n",
      "rectangle 5 4\n",
      "20.00\n",
      "\n"
     ]
    }
   ],
   "source": [
    "#!/bin/python\n",
    "\n",
    "import math\n",
    "import os\n",
    "import random\n",
    "import re\n",
    "import sys\n",
    "\n",
    "\n",
    "class Rectangle:\n",
    "    def __init__(self,a,b):\n",
    "        self.a = float(a)\n",
    "        self.b = float(b)\n",
    "    def area(self):\n",
    "        calc_area = a * b\n",
    "        return calc_area\n",
    "class Circle:\n",
    "    def __init__(self,r):\n",
    "        self.r = float(r)\n",
    "    def area(self):\n",
    "        calc_area = math.pi * r ** 2 \n",
    "        return calc_area\n",
    "if __name__ == '__main__':\n",
    "    q = int(input())\n",
    "    queries = []\n",
    "    for _ in range(q):\n",
    "        args = input().split()\n",
    "        shape_name, params = args[0], list(map(int, args[1:]))\n",
    "        if shape_name == \"rectangle\":\n",
    "            a, b = params[0], params[1]\n",
    "            shape = Rectangle(a, b)\n",
    "        elif shape_name == \"circle\":\n",
    "            r = params[0]\n",
    "            shape = Circle(r)\n",
    "        else:\n",
    "            raise ValueError(\"invalid shape type\")\n",
    "        print(\"%.2f\\n\" % shape.area())"
   ]
  },
  {
   "cell_type": "code",
   "execution_count": 9,
   "metadata": {},
   "outputs": [
    {
     "name": "stdout",
     "output_type": "stream",
     "text": [
      "5 10\n",
      "7.50\n",
      "\n"
     ]
    }
   ],
   "source": [
    "#!/bin/python3\n",
    "\n",
    "import math\n",
    "import os\n",
    "import random\n",
    "import re\n",
    "import sys\n",
    "\n",
    "\n",
    "# write your code here\n",
    "def avg(*args):\n",
    "    numbers = list(args)\n",
    "    average_of_nums = sum(numbers)/len(numbers)\n",
    "    return(average_of_nums)\n",
    "if __name__ == '__main__':\n",
    "    nums = list(map(int, input().split()))\n",
    "    res = avg(*nums)\n",
    "    print('%.2f' % res + '\\n')"
   ]
  }
 ],
 "metadata": {
  "kernelspec": {
   "display_name": "Python 3",
   "language": "python",
   "name": "python3"
  },
  "language_info": {
   "codemirror_mode": {
    "name": "ipython",
    "version": 3
   },
   "file_extension": ".py",
   "mimetype": "text/x-python",
   "name": "python",
   "nbconvert_exporter": "python",
   "pygments_lexer": "ipython3",
   "version": "3.7.8"
  }
 },
 "nbformat": 4,
 "nbformat_minor": 4
}
